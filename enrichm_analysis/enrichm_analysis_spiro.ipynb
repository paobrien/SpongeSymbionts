{
 "cells": [
  {
   "cell_type": "markdown",
   "id": "f0a4bac3-262d-4d2d-9658-664d4c02c750",
   "metadata": {},
   "source": [
    "# Spirochaetaceae enrichment analysis"
   ]
  },
  {
   "cell_type": "markdown",
   "id": "ea2ec25e-b12e-4839-8990-0c403393730b",
   "metadata": {},
   "source": [
    "#### Enrichment analysis of spirochaetaceae genomes isolated from sponges against other environments"
   ]
  },
  {
   "cell_type": "markdown",
   "id": "775d5482-dd86-4155-8340-dc0d8a638a94",
   "metadata": {},
   "source": [
    "## Infer phylogeny to assess which genomes to include"
   ]
  },
  {
   "cell_type": "code",
   "execution_count": null,
   "id": "7c874e21-bd6d-4519-97a9-68f3cdf87ec0",
   "metadata": {},
   "outputs": [],
   "source": [
    "#!/bin/bash\n",
    "\n",
    "# load programs\n",
    "module load miniconda3\n",
    "conda activate gtdbtk-1.4.0\n",
    "\n",
    "#run GTDB-tk\n",
    "gtdbtk de_novo_wf \\\n",
    "    --genome_dir ~/Data/MAGs/Spiro/95_ani \\\n",
    "    --bacteria \\\n",
    "    --outgroup_taxon o__Spirochaetales_A \\\n",
    "    --out_dir ~/Metagenomics/GTDB/Spiro/Enrichment_analysis \\\n",
    "    -x fna \\\n",
    "    --taxa_filter o__Spirochaetales \\\n",
    "    --prefix spiro \\\n",
    "    --cpus 4\n"
   ]
  },
  {
   "cell_type": "markdown",
   "id": "89161df2-5784-4fde-b78b-a2d4b604fc56",
   "metadata": {},
   "source": [
    "## Run checkM to get genome quality for dereplication"
   ]
  },
  {
   "cell_type": "code",
   "execution_count": null,
   "id": "e75e6cdc-eddb-4d71-ae7a-a51ed4af4d4e",
   "metadata": {},
   "outputs": [],
   "source": [
    "#!/bin/bash\n",
    "\n",
    "# load programs\n",
    "module load miniconda3\n",
    "conda activate checkm-genome-1.1.3\n",
    "\n",
    "# get checkm quality\n",
    "checkm lineage_wf \\\n",
    "    ~/Data/MAGs/Spiro/95_ani/ \\\n",
    "    ~/Checkm/Spiro_95 \\\n",
    "    -x fna -t 16\n",
    "\n",
    "# create checkm file\n",
    "checkm qa \\\n",
    "    ~/Checkm/Spiro_95/lineage.ms \\\n",
    "    ~/Checkm/Spiro_95 \\\n",
    "    -o 1 -f ~/Checkm/Nitro_95/checkm_spiro95_short.tsv --tab_table -t 16\n",
    "\n"
   ]
  },
  {
   "cell_type": "markdown",
   "id": "a3565d19-9a9e-4a80-a2d6-96b20debe940",
   "metadata": {},
   "source": [
    "## Dereplicate and remove low quality genomes"
   ]
  },
  {
   "cell_type": "code",
   "execution_count": null,
   "id": "13b20795-0eec-4c20-b4f6-450738c4f6a7",
   "metadata": {},
   "outputs": [],
   "source": [
    "#!/bin/bash\n",
    "\n",
    "# load programs\n",
    "module load miniconda3\n",
    "conda activate coverm-0.6.0\n",
    "\n",
    "# dereplicate with coverm\n",
    "coverm cluster \\\n",
    "    --genome-fasta-directory ~/Data/MAGs/Spiro/95_ani/ \\\n",
    "    -x fna \\\n",
    "    --ani 95 \\\n",
    "    --checkm-tab-table ~/Metagenomics/Checkm/Spiro_95/checkm_spiro95_short.tsv \\\n",
    "    --output-representative-fasta-directory ~/Data/MAGs/Spiro/95_ani/Dereplicated \\\n",
    "    --precluster-method finch \\\n",
    "    --min-completeness 50 \\\n",
    "    --max-contamination 10 \\\n",
    "    -t 8\n"
   ]
  },
  {
   "cell_type": "markdown",
   "id": "50556234-5749-4ff8-a31b-f598ae6b2bce",
   "metadata": {},
   "source": [
    "## Annotate genomes"
   ]
  },
  {
   "cell_type": "code",
   "execution_count": null,
   "id": "58d8cfc2-5b54-48d0-80d1-3bae3143b060",
   "metadata": {},
   "outputs": [],
   "source": [
    "#!/bin/bash\n",
    "\n",
    "# load programs\n",
    "module load miniconda3\n",
    "conda activate enrichm_0.5.0rc1\n",
    "\n",
    "# annotate genomes using enrichm with KO, Pfam and CAZy databases\n",
    "enrichm annotate \\\n",
    "    --output ~/Enrichm/Annotate/Spiro_95/ \\\n",
    "    --genome_directory ~/Data/MAGs/Spiro/95_ani \\\n",
    "    --force \\\n",
    "    --ko \\\n",
    "    --pfam \\\n",
    "    --cazy \\\n",
    "    --threads 16 \\\n",
    "    --suffix .fna "
   ]
  },
  {
   "cell_type": "markdown",
   "id": "a563d6cf-2b35-49f6-b442-df89852a0365",
   "metadata": {},
   "source": [
    "## Redo phylogeny with dereplicated genomes"
   ]
  },
  {
   "cell_type": "code",
   "execution_count": null,
   "id": "37438aeb-22d0-47eb-9f9b-9f3828e2da7c",
   "metadata": {},
   "outputs": [],
   "source": [
    "#!/bin/bash\n",
    "\n",
    "# load programs\n",
    "module load miniconda3\n",
    "conda activate gtdbtk-1.4.0\n",
    "\n",
    "# run gtdb-tk\n",
    "gtdbtk de_novo_wf \\\n",
    "    --genome_dir ~/Data/MAGs/Spiro/95_ani/Dereplicated \\\n",
    "    --bacteria \\\n",
    "    --outgroup_taxon o__Spirochaetales_A \\\n",
    "    --out_dir ~/Metagenomics/GTDB/Spiro/Enrichment_analysis \\\n",
    "    -x fna \\\n",
    "    --taxa_filter o__Spirochaetales \\\n",
    "    --prefix spiro_95 \\\n",
    "    --cpus 4\n",
    "\n"
   ]
  },
  {
   "cell_type": "markdown",
   "id": "b293b561-4302-4c30-a023-86e0fcbaecd8",
   "metadata": {},
   "source": [
    "## Run enrichment analysis"
   ]
  },
  {
   "cell_type": "code",
   "execution_count": null,
   "id": "6f3c9353-faf2-4e65-8371-1db35054a375",
   "metadata": {},
   "outputs": [],
   "source": [
    "#!/bin/bash\n",
    "\n",
    "# load programs\n",
    "module load miniconda3\n",
    "conda activate enrichm_0.5.0rc1\n",
    "\n",
    "# CAZy analysis\n",
    "enrichm enrichment \\\n",
    "    --output ~/Metagenomics/Enrichm/Enrichment/Spiro_95/CAZY \\\n",
    "    --annotate_output ~/Metagenomics/Enrichm/Annotate/Spiro_95 \\\n",
    "    --metadata ~/Metagenomics/Enrichm/Enrichment/Spiro_95/metadata_spiro95_85comp_nonSponge.txt \\\n",
    "    --cazy \\\n",
    "    --force \n",
    "\n",
    "# Pfam analysis\n",
    "enrichm enrichment \\\n",
    "    --output ~/Metagenomics/Enrichm/Enrichment/Spiro_95/PFAM \\\n",
    "    --annotate_output ~/Metagenomics/Enrichm/Annotate/Spiro_95 \\\n",
    "    --metadata ~/Metagenomics/Enrichm/Enrichment/Spiro_95/metadata_spiro95_85comp_nonSponge.txt \\\n",
    "    --pfam \\\n",
    "    --force\n",
    "\n",
    "# KO analysis\n",
    "enrichm enrichment \\\n",
    "    --output ~/Enrichm/Enrichment/Spiro_95/Spiro95_85comp_nonSponge \\\n",
    "    --annotate_output ~/Enrichm/Annotate/Spiro_95 \\\n",
    "    --metadata ~/Enrichm/Enrichment/Spiro_95/metadata_spiro95_85comp_nonSponge.txt \\\n",
    "    --ko \\\n",
    "    --force "
   ]
  }
 ],
 "metadata": {
  "kernelspec": {
   "display_name": "Bash",
   "language": "bash",
   "name": "bash"
  },
  "language_info": {
   "codemirror_mode": "shell",
   "file_extension": ".sh",
   "mimetype": "text/x-sh",
   "name": "bash"
  }
 },
 "nbformat": 4,
 "nbformat_minor": 5
}
