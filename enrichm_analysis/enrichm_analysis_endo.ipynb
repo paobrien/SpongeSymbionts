{
 "cells": [
  {
   "cell_type": "markdown",
   "id": "3e98d418-aa25-4a80-982e-e0686597e912",
   "metadata": {},
   "source": [
    "# Endozoicomonadaceae enrichment analysis"
   ]
  },
  {
   "cell_type": "markdown",
   "id": "ad544b66-d98f-4097-9a09-a2ee04ad6db2",
   "metadata": {},
   "source": [
    "#### Enrichment analysis of Endozoicomonadaceae genomes isolated from sponges against other environments"
   ]
  },
  {
   "cell_type": "markdown",
   "id": "9c08566b-0b0f-42e3-9874-c34b41157cb1",
   "metadata": {},
   "source": [
    "## Infer phylogeny to assess which genomes to include"
   ]
  },
  {
   "cell_type": "code",
   "execution_count": null,
   "id": "f25cf853-1192-4ea2-9d6d-ad3dbb6d048a",
   "metadata": {},
   "outputs": [],
   "source": [
    "#!/bin/bash\n",
    "\n",
    "# load programs\n",
    "module load miniconda3\n",
    "conda activate gtdbtk-1.4.0\n",
    "\n",
    "#run GTDB-tk\n",
    "gtdbtk de_novo_wf \\\n",
    "    --genome_dir ~/Data/MAGs/Endo \\\n",
    "    --bacteria \\\n",
    "    --outgroup_taxon g__Chromatocurvus \\\n",
    "    --out_dir ~/Metagenomics/GTDB/Endo/No_derep \\\n",
    "    -x fna \\\n",
    "    --taxa_filter f__Endozoicomonadaceae \\\n",
    "    --prefix Endo \\\n",
    "    --cpus 4\n"
   ]
  },
  {
   "cell_type": "markdown",
   "id": "c36cc996-0b20-477d-86e7-6f994441903f",
   "metadata": {},
   "source": [
    "## Run checkM to get genome quality for dereplication"
   ]
  },
  {
   "cell_type": "code",
   "execution_count": null,
   "id": "d534d63f-ec02-4289-8c45-5f97df7da0e0",
   "metadata": {},
   "outputs": [],
   "source": [
    "#!/bin/bash\n",
    "\n",
    "# load programs\n",
    "module load miniconda3\n",
    "conda activate checkm-genome-1.1.3\n",
    "\n",
    "# get checkm quality\n",
    "checkm lineage_wf \\\n",
    "    ~/Data/MAGs/Endo/ \\\n",
    "    ~/Metagenomics/Checkm/Endo \\\n",
    "    -x fna -t 16\n",
    "\n",
    "# create checkm file\n",
    "checkm qa \\\n",
    "    ~/Metagenomics/Checkm/Endo/lineage.ms \\\n",
    "    ~/Metagenomics/Checkm/Endo \\\n",
    "    -o 1 -f ~/Metagenomics/Checkm/Endo/checkm_endo_short.tsv --tab_table -t 1\n"
   ]
  },
  {
   "cell_type": "markdown",
   "id": "0b851246-5049-4a12-8ebd-0bf9e31c3ac2",
   "metadata": {},
   "source": [
    "## Dereplicate and remove low quality genomes"
   ]
  },
  {
   "cell_type": "code",
   "execution_count": null,
   "id": "90fb5c74-31d2-4c25-bff8-b0867be5b7ec",
   "metadata": {},
   "outputs": [],
   "source": [
    "#!/bin/bash\n",
    "\n",
    "# load programs\n",
    "module load miniconda3\n",
    "conda activate coverm-0.6.0\n",
    "\n",
    "# dereplicate with coverm\n",
    "coverm cluster \\\n",
    "    --genome-fasta-directory ~/Data/MAGs/Endo \\\n",
    "    -x fna \\\n",
    "    --ani 95 \\\n",
    "    --checkm-tab-table ~/Metagenomics/Checkm/Endo/checkm_endo_short.tsv \\\n",
    "    --output-representative-fasta-directory ~/Data/MAGs/Endo/Endo_95_75comp \\\n",
    "    --precluster-method finch \\\n",
    "    --min-completeness 50 \\\n",
    "    --max-contamination 10 \\\n",
    "    -t 16\n"
   ]
  },
  {
   "cell_type": "markdown",
   "id": "ec8c8f16-f150-4c7c-9b38-95c5d11df4f3",
   "metadata": {},
   "source": [
    "## Annotate genomes"
   ]
  },
  {
   "cell_type": "code",
   "execution_count": null,
   "id": "c53ae19d-71b1-4198-a8d1-52d205f650cf",
   "metadata": {},
   "outputs": [],
   "source": [
    "#!/bin/bash\n",
    "\n",
    "# load programs\n",
    "module load miniconda3\n",
    "conda activate enrichm_0.5.0rc1\n",
    "\n",
    "# annotate genomes using enrichm with KO, Pfam and CAZy databases\n",
    "enrichm annotate \\\n",
    "    --output ~/Metagenomics/Enrichm/Annotate/Endo_95/ \\\n",
    "    --genome_directory ~/Data/MAGs/Endo/Endo_95 \\\n",
    "    --force \\\n",
    "    --ko \\\n",
    "    --pfam \\\n",
    "    --cazy \\\n",
    "    --threads 16 \\\n",
    "    --suffix .fna "
   ]
  },
  {
   "cell_type": "markdown",
   "id": "11177635-c1a3-4dc1-9718-a88117ab3798",
   "metadata": {},
   "source": [
    "## Redo phylogeny with dereplicated genomes"
   ]
  },
  {
   "cell_type": "code",
   "execution_count": null,
   "id": "83ec9a81-b649-42f8-bfc9-bf52475421db",
   "metadata": {},
   "outputs": [],
   "source": [
    "#!/bin/bash\n",
    "\n",
    "# load programs\n",
    "module load miniconda3\n",
    "conda activate gtdbtk-1.4.0\n",
    "\n",
    "# run gtdb-tk\n",
    "gtdbtk de_novo_wf \\\n",
    "    --genome_dir ~/Data/MAGs/Endo/Endo_95 \\\n",
    "    --bacteria \\\n",
    "    --outgroup_taxon g__Chromatocurvus \\\n",
    "    --out_dir ~/Metagenomics/GTDB/Endo/95_ani \\\n",
    "    -x fna \\\n",
    "    --taxa_filter f__Endozoicomonadaceae \\\n",
    "    --prefix Endo \\\n",
    "    --cpus 4\n",
    "\n"
   ]
  },
  {
   "cell_type": "markdown",
   "id": "7fa7c14a-be0f-4ecb-96d8-f9f0ce7a58e2",
   "metadata": {},
   "source": [
    "## Run enrichment analysis"
   ]
  },
  {
   "cell_type": "code",
   "execution_count": null,
   "id": "5a9b9dd9-8bac-4f0a-babc-d0f6e49ec4ca",
   "metadata": {},
   "outputs": [],
   "source": [
    "#!/bin/bash\n",
    "\n",
    "# load programs\n",
    "module load miniconda3\n",
    "conda activate enrichm_0.5.0rc1\n",
    "\n",
    "# CAZy analysis\n",
    "enrichm enrichment \\\n",
    "    --output ~/Metagenomics/Enrichm/Enrichment/Endo_95/CAZY \\\n",
    "    --annotate_output ~/Metagenomics/Enrichm/Annotate/Endo_95 \\\n",
    "    --metadata ~/Metagenomics/Enrichm/Enrichment/Endo_95/metadata_endo95_83_sponge_v_nonsponge.txt \\\n",
    "    --cazy \\\n",
    "    --force\n",
    "\n",
    "# Pfam analysis\n",
    "enrichm enrichment \\\n",
    "    --output ~/Metagenomics/Enrichm/Enrichment/Endo_95/PFAM \\\n",
    "    --annotate_output ~/Metagenomics/Enrichm/Annotate/Endo_95 \\\n",
    "    --metadata ~/Metagenomics/Enrichm/Enrichment/Endo_95/metadata_endo95_83_sponge_v_nonsponge.txt \\\n",
    "    --pfam \\\n",
    "    --force\n",
    "\n",
    "# KO analysis\n",
    "enrichm enrichment \\\n",
    "    --output ~/Metagenomics/Enrichm/Enrichment/Endo_95/KO \\\n",
    "    --annotate_output ~/Metagenomics/Enrichm/Annotate/Endo_95 \\\n",
    "    --metadata ~/Metagenomics/Enrichm/Enrichment/Endo_95/metadata_endo95_83_sponge_v_nonsponge.txt \\\n",
    "    --ko \\\n",
    "    --force\n"
   ]
  }
 ],
 "metadata": {
  "kernelspec": {
   "display_name": "Bash",
   "language": "bash",
   "name": "bash"
  },
  "language_info": {
   "codemirror_mode": "shell",
   "file_extension": ".sh",
   "mimetype": "text/x-sh",
   "name": "bash"
  }
 },
 "nbformat": 4,
 "nbformat_minor": 5
}
