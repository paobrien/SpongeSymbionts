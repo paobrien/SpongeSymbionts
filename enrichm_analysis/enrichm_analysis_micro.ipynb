{
 "cells": [
  {
   "cell_type": "markdown",
   "id": "a6a38672-43af-40e6-9c3f-485c9daa19a9",
   "metadata": {},
   "source": [
    "# Microtrichaceae enrichment analysis"
   ]
  },
  {
   "cell_type": "markdown",
   "id": "f764aa0b-b23c-4859-8a3e-46e2d227f7a2",
   "metadata": {},
   "source": [
    "#### Enrichment analysis of microtrichaceae genomes isolated from sponges against other environments"
   ]
  },
  {
   "cell_type": "markdown",
   "id": "77e34dd6-2142-4191-996b-6cd1c05b1be4",
   "metadata": {},
   "source": [
    "## Infer phylogeny to assess which genomes to include"
   ]
  },
  {
   "cell_type": "code",
   "execution_count": null,
   "id": "8ccaa8e5-9413-44fe-aad6-9c51681c5cc4",
   "metadata": {},
   "outputs": [],
   "source": [
    "#!/bin/bash\n",
    "\n",
    "# load programs\n",
    "module load miniconda3\n",
    "conda activate gtdbtk-1.4.0\n",
    "\n",
    "#run GTDB-tk\n",
    "gtdbtk de_novo_wf \\\n",
    "    --genome_dir ~/Data/MAGs/Micro \\\n",
    "    --bacteria \\\n",
    "    --outgroup_taxon g__Microthrix \\\n",
    "    --out_dir ~/Metagenomics/GTDB/Micro/No_derep \\\n",
    "    -x fa \\\n",
    "    --taxa_filter f__UBA11606,f__Bin134,f__TK06 \\\n",
    "    --prefix Micro \\\n",
    "    --cpus 4"
   ]
  },
  {
   "cell_type": "markdown",
   "id": "d84bf495-10a6-401d-ab44-e59d23ff6b09",
   "metadata": {},
   "source": [
    "## Run checkM to get genome quality for dereplication"
   ]
  },
  {
   "cell_type": "code",
   "execution_count": null,
   "id": "49caa147-d102-4eec-a693-a2f39ba79754",
   "metadata": {},
   "outputs": [],
   "source": [
    "#!/bin/bash\n",
    "\n",
    "# load programs\n",
    "module load miniconda3\n",
    "conda activate checkm-genome-1.1.3\n",
    "\n",
    "# get checkm quality\n",
    "checkm lineage_wf \\\n",
    "    ~/Data/MAGs/Micro/ \\\n",
    "    ~/Metagenomics/Checkm/Micro \\\n",
    "    -x fna -t 16\n",
    "\n",
    "# Create checkm file\n",
    "checkm qa \\\n",
    "    ~/Metagenomics/Checkm/Micro/lineage.ms \\\n",
    "    ~/Metagenomics/Checkm/Micro \\\n",
    "    -o 1 -f ~/Metagenomics/Checkm/Micro/checkm_micro_short.tsv --tab_table -t 1"
   ]
  },
  {
   "cell_type": "markdown",
   "id": "f287f301-850e-4f37-a028-cc1c42fc73ac",
   "metadata": {},
   "source": [
    "## Dereplicate and remove low quality genomes"
   ]
  },
  {
   "cell_type": "code",
   "execution_count": null,
   "id": "863d2da0-2661-4a32-9395-c9b49689f922",
   "metadata": {},
   "outputs": [],
   "source": [
    "#!/bin/bash\n",
    "\n",
    "# load programs\n",
    "module load miniconda3\n",
    "conda activate coverm-0.6.0\n",
    "\n",
    "# dereplicate with coverm\n",
    "coverm cluster \\\n",
    "    --genome-fasta-directory ~/Data/MAGs/Micro \\\n",
    "    -x fna \\\n",
    "    --ani 95 \\\n",
    "    --checkm-tab-table ~/Metagenomics/Checkm/Micro/checkm_micro_short.tsv \\\n",
    "    --output-representative-fasta-directory ~/Data/MAGs/Micro/Micro_95 \\\n",
    "    --precluster-method finch \\\n",
    "    --min-completeness 85 \\\n",
    "    --max-contamination 10 \\\n",
    "    -t 1"
   ]
  },
  {
   "cell_type": "markdown",
   "id": "97937b6d-d524-4b86-9eef-67bd76fb3a10",
   "metadata": {},
   "source": [
    "## Annotate genomes"
   ]
  },
  {
   "cell_type": "code",
   "execution_count": null,
   "id": "6bb432a0-4b29-4877-8ea2-06659e41467f",
   "metadata": {},
   "outputs": [],
   "source": [
    "#!/bin/bash\n",
    "\n",
    "# load programs\n",
    "module load miniconda3\n",
    "conda activate enrichm_0.5.0rc1\n",
    "\n",
    "# annotate genomes using enrichm with KO, Pfam and CAZy databasesn\n",
    "enrichm annotate \\\n",
    "    --output ~/Metagenomics/Enrichm/Annotate/Micro_95/ \\\n",
    "    --genome_directory ~/Data/MAGs/Micro/Micro_95 \\\n",
    "    --force \\\n",
    "    --ko \\\n",
    "    --pfam \\\n",
    "    --cazy \\\n",
    "    --threads 16 \\\n",
    "    --suffix .fna"
   ]
  },
  {
   "cell_type": "markdown",
   "id": "2f600f95-5126-442b-8c8d-544b07ac0b0b",
   "metadata": {},
   "source": [
    "## Redo phylogeny with dereplicated genomes"
   ]
  },
  {
   "cell_type": "code",
   "execution_count": null,
   "id": "cab08dc4-aee0-47c7-ace8-14b0ede5b0af",
   "metadata": {},
   "outputs": [],
   "source": [
    "#!/bin/bash\n",
    "\n",
    "# load programs\n",
    "module load miniconda3\n",
    "conda activate gtdbtk-1.4.0\n",
    "\n",
    "# run gtdb-tk\n",
    "gtdbtk de_novo_wf \\\n",
    "    --genome_dir ~/Data/MAGs/Micro/Micro_95/no_gtdb \\\n",
    "    --bacteria \\\n",
    "    --outgroup_taxon g__Microthrix \\\n",
    "    --out_dir ~/Metagenomics/GTDB/Micro/95_ani \\\n",
    "    -x fna \\\n",
    "    --taxa_filter f__UBA11606,f__Bin134,f__TK06 \\\n",
    "    --prefix Micro \\\n",
    "    --cpus 4"
   ]
  },
  {
   "cell_type": "markdown",
   "id": "8b916f4a-83eb-4333-bc49-72ab32e363d2",
   "metadata": {},
   "source": [
    "## Run enrichment analysis"
   ]
  },
  {
   "cell_type": "code",
   "execution_count": null,
   "id": "d6ad5da3-3d15-42fe-91e6-e52591819b9a",
   "metadata": {},
   "outputs": [],
   "source": [
    "#!/bin/bash\n",
    "\n",
    "# load programs\n",
    "module load miniconda3\n",
    "conda activate enrichm_0.5.0rc1\n",
    "\n",
    "# KO analysis\n",
    "enrichm enrichment \\\n",
    "    --output ~/Metagenomics/Enrichm/Enrichment/Micro_95/KO \\\n",
    "    --annotate_output ~/Metagenomics/Enrichm/Annotate/Micro_95 \\\n",
    "    --metadata ~/Metagenomics/Enrichm/Enrichment/Micro_95/metadata_micro95_85_sponge_v_nonsponge.txt \\\n",
    "    --ko \\\n",
    "    --force\n",
    "\n",
    "# Pfam analysis\n",
    "enrichm enrichment \\\n",
    "    --output ~/Metagenomics/Enrichm/Enrichment/Micro_95/PFAM \\\n",
    "    --annotate_output ~/Metagenomics/Enrichm/Annotate/Micro_95 \\\n",
    "    --metadata ~/Metagenomics/Enrichm/Enrichment/Micro_95/metadata_micro95_85_sponge_v_nonsponge.txt \\\n",
    "    --pfam \\\n",
    "    --force\n",
    "\n",
    "# CAZy analysis\n",
    "enrichm enrichment \\\n",
    "    --output ~/Metagenomics/Enrichm/Enrichment/Micro_95/CAZY \\\n",
    "    --annotate_output ~/Metagenomics/Enrichm/Annotate/Micro_95 \\\n",
    "    --metadata ~/Metagenomics/Enrichm/Enrichment/Micro_95/metadata_micro95_85_sponge_v_nonsponge.txt \\\n",
    "    --cazy \\\n",
    "    --force"
   ]
  }
 ],
 "metadata": {
  "kernelspec": {
   "display_name": "Bash",
   "language": "bash",
   "name": "bash"
  },
  "language_info": {
   "codemirror_mode": "shell",
   "file_extension": ".sh",
   "mimetype": "text/x-sh",
   "name": "bash"
  }
 },
 "nbformat": 4,
 "nbformat_minor": 5
}
