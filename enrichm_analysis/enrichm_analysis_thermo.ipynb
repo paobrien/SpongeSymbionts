{
 "cells": [
  {
   "cell_type": "markdown",
   "id": "c784fcbf-915b-47d5-b589-e71b4a242056",
   "metadata": {},
   "source": [
    "# Thermoanaerobaculaceae enrichment analysis"
   ]
  },
  {
   "cell_type": "markdown",
   "id": "158e70d3-f443-4200-a2fd-ada9c482ed22",
   "metadata": {},
   "source": [
    "#### Enrichment analysis of thermoanaerobaculaceae genomes isolated from sponges against other environments"
   ]
  },
  {
   "cell_type": "markdown",
   "id": "29116a76-ca2d-490e-b28e-bea7e6cf4199",
   "metadata": {},
   "source": [
    "## Infer phylogeny to assess which genomes to include"
   ]
  },
  {
   "cell_type": "code",
   "execution_count": null,
   "id": "bbaa2329-07a4-4c96-9d28-3cfccc4c4446",
   "metadata": {},
   "outputs": [],
   "source": [
    "#!/bin/bash\n",
    "\n",
    "# load programs\n",
    "module load miniconda3\n",
    "conda activate gtdbtk-1.4.0\n",
    "\n",
    "#run GTDB-tk\n",
    "gtdbtk de_novo_wf \\\n",
    "    --genome_dir ~/Data/MAGs/Thermo \\\n",
    "    --bacteria \\\n",
    "    --outgroup_taxon o__Fen-336 \\\n",
    "    --out_dir ~/Metagenomics/GTDB/Thermo/No_derep \\\n",
    "    -x fna \\\n",
    "    --taxa_filter c__Thermoanaerobaculia \\\n",
    "    --prefix Micro \\\n",
    "    --cpus 4\n"
   ]
  },
  {
   "cell_type": "markdown",
   "id": "da44c4af-4ec2-4dbf-8b0e-0d789ede1a53",
   "metadata": {},
   "source": [
    "## Run checkM to get genome quality for dereplication"
   ]
  },
  {
   "cell_type": "code",
   "execution_count": null,
   "id": "e62d396a-6f13-4c71-93fd-f9e72b925331",
   "metadata": {},
   "outputs": [],
   "source": [
    "#!/bin/bash\n",
    "\n",
    "# load programs\n",
    "module load miniconda3\n",
    "conda activate checkm-genome-1.1.3\n",
    "\n",
    "# get checkm quality\n",
    "checkm lineage_wf \\\n",
    "    ~/Data/MAGs/Thermo/ \\\n",
    "    ~/Metagenomics/Checkm/Thermo \\\n",
    "    -x fna -t 16\n",
    "\n",
    "# create checkm file\n",
    "checkm qa \\\n",
    "    ~/Metagenomics/Checkm/Thermo/lineage.ms \\\n",
    "    ~/Metagenomics/Checkm/Thermo \\\n",
    "    -o 1 -f ~/Metagenomics/Checkm/Thermo/checkm_thermo_short.tsv --tab_table -t 1"
   ]
  },
  {
   "cell_type": "markdown",
   "id": "81fbe9ab-6238-4209-a0b9-21ce169d97da",
   "metadata": {},
   "source": [
    "## Dereplicate and remove low quality genomes"
   ]
  },
  {
   "cell_type": "code",
   "execution_count": null,
   "id": "d0969e6f-442b-42be-a2fe-78dd1eac95b6",
   "metadata": {},
   "outputs": [],
   "source": [
    "#!/bin/bash\n",
    "\n",
    "# load programs\n",
    "module load miniconda3\n",
    "conda activate coverm-0.6.0\n",
    "\n",
    "# dereplicate with coverm\n",
    "coverm cluster \\\n",
    "    --genome-fasta-directory ~/Data/MAGs/Thermo \\\n",
    "    -x fna \\\n",
    "    --ani 95 \\\n",
    "    --checkm-tab-table ~/Metagenomics/Checkm/Thermo/checkm_thermo_short.tsv \\\n",
    "    --output-representative-fasta-directory ~/Data/MAGs/Thermo/Thermo_95 \\\n",
    "    --precluster-method finch \\\n",
    "    --min-completeness 85 \\\n",
    "    --max-contamination 10 \\\n",
    "    -t 1\n"
   ]
  },
  {
   "cell_type": "markdown",
   "id": "52a9dcfe-e8ee-48de-8037-4058dbb05851",
   "metadata": {},
   "source": [
    "## Annotate genomes"
   ]
  },
  {
   "cell_type": "code",
   "execution_count": null,
   "id": "87a33e8d-d135-4a62-85a5-3aeb3b6bc1db",
   "metadata": {},
   "outputs": [],
   "source": [
    "#!/bin/bash\n",
    "\n",
    "# load programs\n",
    "module load miniconda3\n",
    "conda activate enrichm_0.5.0rc1\n",
    "\n",
    "# annotate genomes using enrichm with KO, Pfam and CAZy databases\n",
    "enrichm annotate \\\n",
    "    --output ~/Metagenomics/Enrichm/Annotate/Thermo_95/ \\\n",
    "    --genome_directory ~/Data/MAGs/Thermo/Thermo_95 \\\n",
    "    --force \\\n",
    "    --ko \\\n",
    "    --pfam \\\n",
    "    --cazy \\\n",
    "    --threads 16 \\\n",
    "    --suffix .fna"
   ]
  },
  {
   "cell_type": "markdown",
   "id": "8072e8f7-809f-465e-91e2-0d77360fb0c1",
   "metadata": {},
   "source": [
    "## Redo phylogeny with dereplicated genomes"
   ]
  },
  {
   "cell_type": "code",
   "execution_count": null,
   "id": "f8abcfc7-4280-4659-8aab-59d9036c5618",
   "metadata": {},
   "outputs": [],
   "source": [
    "#!/bin/bash\n",
    "\n",
    "# load programs\n",
    "module load miniconda3\n",
    "conda activate gtdbtk-1.4.0\n",
    "\n",
    "# run gtdb-tk\n",
    "gtdbtk de_novo_wf \\\n",
    "    --genome_dir ~/Data/MAGs/Thermo/Thermo_95/no_gtdb \\\n",
    "    --bacteria \\\n",
    "    --outgroup_taxon o__Fen-336 \\\n",
    "    --out_dir ~/Metagenomics/GTDB/Thermo/95_ani \\\n",
    "    -x fna \\\n",
    "    --taxa_filter c__Thermoanaerobaculia \\\n",
    "    --prefix Thermo \\\n",
    "    --cpus 4\n",
    "\n"
   ]
  },
  {
   "cell_type": "markdown",
   "id": "4ae64d67-9f86-434d-ad23-79c5cfd733b3",
   "metadata": {},
   "source": [
    "## Run enrichment analysis"
   ]
  },
  {
   "cell_type": "code",
   "execution_count": null,
   "id": "9d17ce6a-11aa-4eb6-9a21-b3b6d14321ce",
   "metadata": {},
   "outputs": [],
   "source": [
    "#!/bin/bash\n",
    "\n",
    "# load programs\n",
    "module load miniconda3\n",
    "conda activate enrichm_0.5.0rc1\n",
    "\n",
    "# CAZy analysis\n",
    "enrichm enrichment \\\n",
    "    --output ~/Metagenomics/Enrichm/Enrichment/Thermo_95/CAZY \\\n",
    "    --annotate_output ~/Metagenomics/Enrichm/Annotate/Thermo_95 \\\n",
    "    --metadata ~/Metagenomics/Enrichm/Enrichment/Thermo_95/metadata_thermo95_85_sponge_v_nonsponge.txt \\\n",
    "    --cazy \\\n",
    "    --force\n",
    "\n",
    "# Pfam analysis\n",
    "enrichm enrichment \\\n",
    "    --output ~/Metagenomics/Enrichm/Enrichment/Thermo_95/PFAM \\\n",
    "    --annotate_output ~/Metagenomics/Enrichm/Annotate/Thermo_95 \\\n",
    "    --metadata ~/Metagenomics/Enrichm/Enrichment/Thermo_95/metadata_thermo95_85_sponge_v_nonsponge.txt \\\n",
    "    --pfam \\\n",
    "    --force\n",
    "\n",
    "# KO analysis\n",
    "enrichm enrichment \\\n",
    "    --output ~/Metagenomics/Enrichm/Enrichment/Thermo_95/KO \\\n",
    "    --annotate_output ~/Metagenomics/Enrichm/Annotate/Thermo_95 \\\n",
    "    --metadata ~/Metagenomics/Enrichm/Enrichment/Thermo_95/metadata_thermo95_85_sponge_v_nonsponge.txt \\\n",
    "    --ko \\\n",
    "    --force"
   ]
  }
 ],
 "metadata": {
  "kernelspec": {
   "display_name": "Python 3 (ipykernel)",
   "language": "python",
   "name": "python3"
  },
  "language_info": {
   "codemirror_mode": {
    "name": "ipython",
    "version": 3
   },
   "file_extension": ".py",
   "mimetype": "text/x-python",
   "name": "python",
   "nbconvert_exporter": "python",
   "pygments_lexer": "ipython3",
   "version": "3.9.18"
  }
 },
 "nbformat": 4,
 "nbformat_minor": 5
}
