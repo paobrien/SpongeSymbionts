{
 "cells": [
  {
   "cell_type": "markdown",
   "id": "24b33c81-becc-4198-91d2-5dc339b985d6",
   "metadata": {},
   "source": [
    "# Get 16S sequence usng GraftM"
   ]
  },
  {
   "cell_type": "markdown",
   "id": "e309dd85-b6bd-4344-819b-1830c10fb0a1",
   "metadata": {},
   "source": [
    "#### Get 16S sequence from genomes to classify and compare against 16S dataset"
   ]
  },
  {
   "cell_type": "code",
   "execution_count": null,
   "id": "9a9d1093-cd37-43f8-9b7f-ba12e9fcc050",
   "metadata": {},
   "outputs": [],
   "source": [
    "#!/bin/bash\n",
    "\n",
    "# load programs\n",
    "module load graftm/0.13.1\n",
    "\n",
    "# run GraftM\n",
    "#Endo\n",
    "graftM graft \\\n",
    "    --forward ~/Data/MAGs/Endo/Endo_95/*.fna \\\n",
    "    --graftm_package ~/Metagenomics/Graft/Silva_16S_pkg/7.71.silva_v132_alpha1.gpkg/ \\\n",
    "    --threads 12  \\\n",
    "    --output ~/Metagenomics/Graft/Endo_all_16S\n",
    "\n",
    "#Micro\n",
    "graftM graft \\\n",
    "    --forward ~/Data/MAGs/Micro/Micro_95/*.fna \\\n",
    "    --graftm_package ~/Metagenomics/Graft/Silva_16S_pkg/7.71.silva_v132_alpha1.gpkg/ \\\n",
    "    --threads 12  \\\n",
    "    --output ~/Metagenomics/Graft/Micro_all_16S\n",
    "\n",
    "#Nitro\n",
    "graftM graft \\\n",
    "    --forward ~/Data/MAGs/Nitro/95_ani/Dereplicated/*.fna \\\n",
    "    --graftm_package ~/Metagenomics/Graft/Silva_16S_pkg/7.71.silva_v132_alpha1.gpkg/ \\\n",
    "    --threads 12  \\\n",
    "    --output ~/Metagenomics/Graft/Nitro_all_16S\n",
    "\n",
    "#Spiro\n",
    "graftM graft \\\n",
    "    --forward ~/Data/MAGs/Spiro/95_ani/Dereplicated/*.fna \\\n",
    "    --graftm_package ~/Metagenomics/Graft/Silva_16S_pkg/7.71.silva_v132_alpha1.gpkg/ \\\n",
    "    --threads 12  \\\n",
    "    --output ~/Metagenomics/Graft/Spiro_all_16S\n",
    "\n",
    "#Thermo\n",
    "graftM graft \\\n",
    "    --forward ~/Data/MAGs/Thermo/Thermo_95/*.fna \\\n",
    "    --graftm_package ~/Metagenomics/Graft/Silva_16S_pkg/7.71.silva_v132_alpha1.gpkg/ \\\n",
    "    --threads 12  \\\n",
    "    --output ~/Metagenomics/Graft/Thermo_all_16S\n",
    "\n"
   ]
  },
  {
   "cell_type": "markdown",
   "id": "483bb822-cd8d-4472-a992-eef79c8a192f",
   "metadata": {},
   "source": [
    "### Create 16S tax file from GraftM output"
   ]
  },
  {
   "cell_type": "code",
   "execution_count": null,
   "id": "c0be5903-e22a-4f37-b31b-1cac32482124",
   "metadata": {},
   "outputs": [],
   "source": [
    "#!/bin/bash\n",
    "\n",
    "echo \"MAG_id,Classification\" > file_16s.txt #initiates file and prints header\n",
    "\n",
    "for DIR in $(ls -d */);do\t# list all directories\n",
    "    TAX=$(cat $DIR/*read_tax.tsv | cut -d '     ' -f 2)\n",
    "    echo $DIR\n",
    "    echo $TAX\n",
    "    echo \"${DIR},${TAX}\" >> file_16s.txt\n",
    "done\n",
    "\n",
    "# remove spaces\n",
    "sed -i -e 's/ /_/g' file_16s.txt\n",
    "\n",
    "# remove forward slash. Note can change the delimeter in sed, here using '#'\n",
    "sed -i -e 's#/##g' file_16s.txt"
   ]
  }
 ],
 "metadata": {
  "kernelspec": {
   "display_name": "Python 3 (ipykernel)",
   "language": "python",
   "name": "python3"
  },
  "language_info": {
   "codemirror_mode": {
    "name": "ipython",
    "version": 3
   },
   "file_extension": ".py",
   "mimetype": "text/x-python",
   "name": "python",
   "nbconvert_exporter": "python",
   "pygments_lexer": "ipython3",
   "version": "3.9.18"
  }
 },
 "nbformat": 4,
 "nbformat_minor": 5
}
