{
 "cells": [
  {
   "cell_type": "markdown",
   "id": "cc87d63f-f9e2-4e61-a4fd-716ac3e6ef74",
   "metadata": {},
   "source": [
    "# Nitrosopumiliaceae enrichment analysis"
   ]
  },
  {
   "cell_type": "markdown",
   "id": "15ed1818-c8e8-446d-a6a7-748ee48e8d29",
   "metadata": {
    "jp-MarkdownHeadingCollapsed": true
   },
   "source": [
    "#### Enrichment analysis of nitrosopumiliaceae genomes isolated from sponges against other environments"
   ]
  },
  {
   "cell_type": "markdown",
   "id": "89aaf022-2a6d-4a75-9706-dab124ebe61d",
   "metadata": {},
   "source": [
    "## Infer phylogeny to assess which genomes to include"
   ]
  },
  {
   "cell_type": "code",
   "execution_count": null,
   "id": "4e354808-0e04-4e8c-b215-06e7cc17622a",
   "metadata": {},
   "outputs": [],
   "source": [
    "#!/bin/bash\n",
    "\n",
    "# load programs\n",
    "module load miniconda3\n",
    "conda activate gtdbtk-1.4.0\n",
    "\n",
    "#run GTDB-tk\n",
    "gtdbtk de_novo_wf \\\n",
    "    --genome_dir ~/Data/MAGs/Nitro/95_ani \\\n",
    "    --archaea \\\n",
    "    --outgroup_taxon f__Nitrosocaldaceae \\\n",
    "    --out_dir ~/Metagenomics/GTDB/Nitro/No_derep \\\n",
    "    -x fna \\\n",
    "    --taxa_filter f__Nitrosopumilaceae \\\n",
    "    --prefix Nitro \\\n",
    "    --cpus 4\n"
   ]
  },
  {
   "cell_type": "markdown",
   "id": "1d01c092-f9ec-49af-bc64-20c8b6c8f48c",
   "metadata": {},
   "source": [
    "## Run checkM to get genome quality for dereplication"
   ]
  },
  {
   "cell_type": "code",
   "execution_count": null,
   "id": "d2d39e2a-b380-4108-9971-601aa6abb2e7",
   "metadata": {},
   "outputs": [],
   "source": [
    "#!/bin/bash\n",
    "\n",
    "# load programs\n",
    "module load miniconda3\n",
    "conda activate checkm-genome-1.1.3\n",
    "\n",
    "# get checkm quality\n",
    "checkm lineage_wf \\\n",
    "    ~/Data/MAGs/Nitro/95_ani/ \\\n",
    "    ~/Checkm/Nitro_95 \\\n",
    "    -x fna -t 16\n",
    "\n",
    "# create checkm file\n",
    "checkm qa \\\n",
    "    ~/Checkm/Nitro_95/lineage.ms \\\n",
    "    ~/Checkm/Nitro_95 \\\n",
    "    -o 1 -f ~/Checkm/Nitro_95/checkm_nitro95_short.tsv --tab_table -t 16\n"
   ]
  },
  {
   "cell_type": "markdown",
   "id": "0d9a6978-8051-4deb-8f5c-9d3ce779d8d7",
   "metadata": {},
   "source": [
    "## Dereplicate and remove low quality genomes"
   ]
  },
  {
   "cell_type": "code",
   "execution_count": null,
   "id": "0e0c1381-6e0b-4907-850b-b4a800750dfb",
   "metadata": {},
   "outputs": [],
   "source": [
    "#!/bin/bash\n",
    "\n",
    "# load programs\n",
    "module load miniconda3\n",
    "conda activate coverm-0.6.0\n",
    "\n",
    "# dereplicate with coverm\n",
    "coverm cluster \\\n",
    "    --genome-fasta-directory ~/Data/MAGs/Nitro/95_ani/ \\\n",
    "    -x fna \\\n",
    "    --ani 95 \\\n",
    "    --checkm-tab-table ~/Metagenomics/Checkm/Nitro_95/checkm_nitro95_short.tsv \\\n",
    "    --output-representative-fasta-directory ~/Data/MAGs/Nitro/95_ani/Dereplicated \\\n",
    "    --precluster-method finch \\\n",
    "    --min-completeness 50 \\\n",
    "    --max-contamination 10 \\\n",
    "    -t 8\n"
   ]
  },
  {
   "cell_type": "markdown",
   "id": "cbea1ebe-ccb3-4b87-b520-275ae0d4d4ca",
   "metadata": {},
   "source": [
    "## Annotate genomes"
   ]
  },
  {
   "cell_type": "code",
   "execution_count": null,
   "id": "27efacc0-225d-4bb1-ac20-e834558f987a",
   "metadata": {},
   "outputs": [],
   "source": [
    "#!/bin/bash\n",
    "\n",
    "# load programs\n",
    "module load miniconda3\n",
    "conda activate enrichm_0.5.0rc1\n",
    "\n",
    "# annotate genomes using enrichm with KO, Pfam and CAZy databases\n",
    "enrichm annotate \\\n",
    "    --output ~/Metagenomics/Enrichm/Annotate/Nitro_95/ \\\n",
    "    --genome_directory ~/Data/MAGs/Nitro/95_ani \\\n",
    "    --ko \\\n",
    "    --pfam \\\n",
    "    --cazy \\\n",
    "    --threads 16 \\\n",
    "    --suffix .fna\n"
   ]
  },
  {
   "cell_type": "markdown",
   "id": "0dcae11f-7508-47b3-9ce5-e18b4d9ea5de",
   "metadata": {},
   "source": [
    "## Redo phylogeny with dereplicated genomes"
   ]
  },
  {
   "cell_type": "code",
   "execution_count": null,
   "id": "fda25ae4-5b9c-4849-842c-3d89706ac1bd",
   "metadata": {},
   "outputs": [],
   "source": [
    "#!/bin/bash\n",
    "\n",
    "# load programs\n",
    "module load miniconda3\n",
    "conda activate gtdbtk-1.4.0\n",
    "\n",
    "# run gtdb-tk\n",
    "gtdbtk de_novo_wf \\\n",
    "    --genome_dir ~/Data/MAGs/Nitro/95_ani/Dereplicated/Enrichment_analysis \\\n",
    "    --archaea \\\n",
    "    --outgroup_taxon f__Nitrosocaldaceae \\\n",
    "    --out_dir ~/Metagenomics/GTDB/Nitro/Enrichment_analysis \\\n",
    "    -x fna \\\n",
    "    --taxa_filter f__Nitrosopumilaceae \\\n",
    "    --prefix nitro_95 \\\n",
    "    --cpus 4"
   ]
  },
  {
   "cell_type": "markdown",
   "id": "24250909-f7bb-48f2-8759-1dfc197b5f22",
   "metadata": {},
   "source": [
    "## Run enrichment analysis"
   ]
  },
  {
   "cell_type": "code",
   "execution_count": null,
   "id": "39e0e840-c9ee-4ad9-976b-1941210375a2",
   "metadata": {},
   "outputs": [],
   "source": [
    "#!/bin/bash\n",
    "\n",
    "# load programs\n",
    "module load miniconda3\n",
    "conda activate enrichm_0.5.0rc1\n",
    "\n",
    "# CAZy analysis\n",
    "enrichm enrichment \\\n",
    "    --output ~/Metagenomics/Enrichm/Enrichment/Nitro_95/CAZY \\\n",
    "    --annotate_output ~/Metagenomics/Enrichm/Annotate/Nitro_95 \\\n",
    "    --metadata ~/Metagenomics/Enrichm/Enrichment/Nitro_95/metadata_nitro95_85comp_sponge_vs_nonsponge.txt \\\n",
    "    --cazy \\\n",
    "    --force\n",
    "\n",
    "# Pfam analysis\n",
    "enrichm enrichment \\\n",
    "    --output ~/Metagenomics/Enrichm/Enrichment/Nitro_95/PFAM \\\n",
    "    --annotate_output ~/Metagenomics/Enrichm/Annotate/Nitro_95 \\\n",
    "    --metadata ~/Metagenomics/Enrichm/Enrichment/Nitro_95/metadata_nitro95_85comp_sponge_vs_nonsponge.txt \\\n",
    "    --pfam \\\n",
    "    --force\n",
    "\n",
    "# KO analysis\n",
    "enrichm enrichment \\\n",
    "    --output ~/Metagenomics/Enrichm/Enrichment/Nitro_95/KO \\\n",
    "    --annotate_output ~/Metagenomics/Enrichm/Annotate/Nitro_95 \\\n",
    "    --metadata ~/Metagenomics/Enrichm/Enrichment/Nitro_95/metadata_nitro95_85comp_sponge_vs_nonsponge.txt \\\n",
    "    --ko \\\n",
    "    --force\n"
   ]
  }
 ],
 "metadata": {
  "kernelspec": {
   "display_name": "Python 3 (ipykernel)",
   "language": "python",
   "name": "python3"
  },
  "language_info": {
   "codemirror_mode": {
    "name": "ipython",
    "version": 3
   },
   "file_extension": ".py",
   "mimetype": "text/x-python",
   "name": "python",
   "nbconvert_exporter": "python",
   "pygments_lexer": "ipython3",
   "version": "3.9.18"
  }
 },
 "nbformat": 4,
 "nbformat_minor": 5
}
